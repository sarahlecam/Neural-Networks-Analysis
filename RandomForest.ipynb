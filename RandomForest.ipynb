{
 "cells": [
  {
   "cell_type": "code",
   "execution_count": null,
   "metadata": {},
   "outputs": [],
   "source": [
    "import numpy as np\n",
    "import matplotlib.pyplot as plt\n",
    "\n",
    "\n",
    "# Load image\n",
    "# Return numpy array of MxNx3\n",
    "img = plt.imread('mona-lisa-small.jpg')\n",
    "M, N = img.shape[0], img.shape[1]\n",
    "plt.title(\"Mona Lisa\")\n",
    "plt.imshow(img)\n",
    "plt.show()\n",
    "\n",
    "    \n",
    "# Randomly select samples\n",
    "sample_size = 5000\n",
    "coords = []\n",
    "pixels = []\n",
    "x_idx = np.random.choice(M, sample_size)\n",
    "y_idx = np.random.choice(N, sample_size)\n",
    "\n",
    "\n",
    "# Regress all three values and map (x,y) coordinates to (r,g,b) values\n",
    "for i in range(sample_size):\n",
    "    coords.append([x_idx[i], y_idx[i]])\n",
    "    pixels.append(img[x_idx[i], y_idx[i]])\n",
    "# Rescale pixel intensities\n",
    "pixels = [pix / 255 for pix in pixels]\n",
    "\n",
    "\n",
    "# display sample points\n",
    "sample_pts = np.zeros([M,N,3], dtype=np.uint8)\n",
    "sample_pts.fill(255)\n",
    "for i in range(sample_size): \n",
    "    sample_pts[x_idx[i], y_idx[i]] = pixels[i] \n",
    "plt.imshow(sample_pts)\n",
    "plt.title(\"Sample Points\")\n",
    "plt.show()"
   ]
  },
  {
   "cell_type": "code",
   "execution_count": null,
   "metadata": {},
   "outputs": [],
   "source": [
    "from sklearn.ensemble import RandomForestRegressor\n",
    "\n",
    "def run_RFR(n_trees, depth):\n",
    "    rf = RandomForestRegressor(n_estimators=n_trees, max_depth=depth)\n",
    "    rf.fit(coords, pixels)\n",
    "    pred = np.zeros([M,N,3])\n",
    "    for i in range(M):\n",
    "        for j in range(N):\n",
    "            pred[i,j] = rf.predict(np.array([i,j]).reshape(1,-1))\n",
    "    plt.imshow(pred)\n",
    "    plt.show()\n",
    "    \n",
    "run_RFR(1, None)"
   ]
  },
  {
   "cell_type": "code",
   "execution_count": null,
   "metadata": {},
   "outputs": [],
   "source": [
    "# Single decision tree with depths 1, 2, 3, 5, 10, and 15.\n",
    "run_RFR(1, 1)\n",
    "run_RFR(1, 2)\n",
    "run_RFR(1, 3)\n",
    "run_RFR(1, 5)\n",
    "run_RFR(1, 10)\n",
    "run_RFR(1, 15)"
   ]
  },
  {
   "cell_type": "code",
   "execution_count": null,
   "metadata": {},
   "outputs": [],
   "source": [
    "# tree depth 7 with tree number 1, 3, 5, 10, and 100\n",
    "run_RFR(1, 7)\n",
    "run_RFR(3, 7)\n",
    "run_RFR(5, 7)\n",
    "run_RFR(10, 7)\n",
    "run_RFR(100, 7)"
   ]
  },
  {
   "cell_type": "code",
   "execution_count": null,
   "metadata": {},
   "outputs": [],
   "source": [
    "from sklearn.neighbors import KNeighborsRegressor\n",
    "\n",
    "def run_KNR():\n",
    "    knn = KNeighborsRegressor(n_neighbors=1)\n",
    "    knn.fit(coords, pixels)\n",
    "    pred = np.zeros([M,N,3])\n",
    "    for i in range(M):\n",
    "        for j in range(N):\n",
    "            pred[i,j] = rf.predict(np.array([i,j]).reshape(1,-1))\n",
    "    plt.imshow(pred)\n",
    "    plt.show()\n",
    "\n",
    "run_KNR()\n"
   ]
  },
  {
   "cell_type": "code",
   "execution_count": null,
   "metadata": {
    "collapsed": true
   },
   "outputs": [],
   "source": []
  }
 ],
 "metadata": {
  "kernelspec": {
   "display_name": "Python 3",
   "language": "python",
   "name": "python3"
  },
  "language_info": {
   "codemirror_mode": {
    "name": "ipython",
    "version": 3
   },
   "file_extension": ".py",
   "mimetype": "text/x-python",
   "name": "python",
   "nbconvert_exporter": "python",
   "pygments_lexer": "ipython3",
   "version": "3.6.1"
  }
 },
 "nbformat": 4,
 "nbformat_minor": 2
}
